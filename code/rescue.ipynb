{
 "cells": [
  {
   "cell_type": "markdown",
   "metadata": {
    "id": "eOsVdx6GGHmU"
   },
   "source": [
    "# RESCUE\n",
    "*Renewable Energy Salient Combined Uncertainty Estimator*\n",
    "\n",
    "A machine-learning based framework to quantify the short-term uncertainty in netload forecast developed by E3.\n",
    "\n",
    "Characteristics includes:\n",
    "1. Weather, time and recent errors aware.\n",
    "2. Correlation aware as solar,wind, and load errors are co-trained.\n",
    "3. Produces multiple prediction intervals for expected error in netload forecasting\n",
    "4. Model agnostic. No requirement on knowledge of the inner workings of the netload forecast\n",
    "\n",
    "Authors: Yuchi Sun, Vignesh Venugopal, Charles Gulian, Huai Jiang\n"
   ]
  },
  {
   "cell_type": "code",
   "execution_count": 1,
   "metadata": {
    "id": "0trJmd6DjqBZ"
   },
   "outputs": [],
   "source": [
    "import tensorflow as tf\n",
    "import pandas as pd\n",
    "import numpy as np\n",
    "import os\n",
    "import matplotlib.pyplot as plt"
   ]
  },
  {
   "cell_type": "markdown",
   "metadata": {
    "id": "7NAbSZiaoJ4z"
   },
   "source": [
    "Load and prepare net load forecast error data\n",
    "\n",
    "TODO: Proper generalization\n",
    "TODO: Proper CV\n",
    "TODO: Basic Data check and Assertion"
   ]
  },
  {
   "cell_type": "code",
   "execution_count": 2,
   "metadata": {},
   "outputs": [
    {
     "name": "stdout",
     "output_type": "stream",
     "text": [
      "(90000, 21)\n",
      "(90000,)\n",
      "(11185, 21)\n"
     ]
    }
   ],
   "source": [
    "\n",
    "\n",
    "trainval_input = pd.read_pickle(os.path.join('outputs_from_code','trainval_inputs.pkl')).T\n",
    "trainval_input = (trainval_input-trainval_input.min())/(trainval_input.max()-trainval_input.min())\n",
    "# trainval_output = pd.read_pickle(os.path.join('outputs_from_code','trainval_output.pkl')).T\n",
    "# trainval_output = (trainval_output-trainval_output.min())/(trainval_output.max()-trainval_output.min())\n",
    "trainval_output = np.random.random(trainval_input.shape[0])-0.5\n",
    "\n",
    "x_train, x_test = trainval_input.iloc[:90000].values.astype('float32'), trainval_input.iloc[90000:].values.astype('float32')\n",
    "y_train, y_test = trainval_output[:90000].astype('float32'), trainval_output[90000:].astype('float32')\n",
    "\n",
    "print(x_train.shape)\n",
    "print(y_train.shape)\n",
    "print(x_test.shape)"
   ]
  },
  {
   "cell_type": "markdown",
   "metadata": {
    "id": "k1Evqx0S22r_"
   },
   "source": [
    "Use `tf.data` to batch and shuffle the dataset:"
   ]
  },
  {
   "cell_type": "code",
   "execution_count": 12,
   "metadata": {
    "id": "8Iu_quO024c2"
   },
   "outputs": [],
   "source": [
    "# train_ds = tf.data.Dataset.from_tensor_slices((x_train, y_train)).shuffle(10000).batch(32)\n",
    "# test_ds = tf.data.Dataset.from_tensor_slices((x_test, y_test)).batch(32)"
   ]
  },
  {
   "cell_type": "markdown",
   "metadata": {
    "id": "BPZ68wASog_I"
   },
   "source": [
    "Build the ANN model with Pinball loss using the Keras [model subclassing API](https://www.tensorflow.org/guide/keras#model_subclassing)"
   ]
  },
  {
   "cell_type": "code",
   "execution_count": 6,
   "metadata": {},
   "outputs": [],
   "source": [
    "class ANN_Pinball(tf.keras.Model):\n",
    "    '''\n",
    "    A two-layer ANN model with a pinball loss to produce prediction interval.\n",
    "    The model can take an arbitrary amounts of input. As a rule of thumb less than 100 input terms would be preferred.\n",
    "    The model's target/label should be the true value of the prediction whose upper/lower bound we are interested in. \n",
    "    In our application, since we are interested in the range of forecast erros, the label should be the forecast error.\n",
    "    \n",
    "    '''\n",
    "    def __init__(self):\n",
    "        super(ANN_Pinball, self).__init__()\n",
    "        self.d1 = tf.keras.layers.Dense(10, activation='relu')\n",
    "        self.d2 = tf.keras.layers.Dense(10, activation='relu')\n",
    "        self.d3 = tf.keras.layers.Dense(1)\n",
    "\n",
    "    def call(self, x):\n",
    "        x = self.d1(x)\n",
    "        x = self.d2(x)\n",
    "        x = self.d3(x)\n",
    "        return x\n",
    "\n",
    "# # Create an instance of the model\n",
    "rescue_model = ANN_Pinball()\n",
    "\n",
    "# Define the pinball loss function \n",
    "def pinball_loss(y_true, y_pred):\n",
    "    tau = 0.25\n",
    "    err = y_true - y_pred\n",
    "    return tf.keras.backend.mean(tf.keras.backend.maximum(tau * err, (tau - 1) * err), axis=-1)\n",
    "\n",
    "rescue_model.compile(loss=pinball_loss, optimizer=tf.keras.optimizers.Adam(0.001))"
   ]
  },
  {
   "cell_type": "markdown",
   "metadata": {},
   "source": [
    "Training the rescue model"
   ]
  },
  {
   "cell_type": "code",
   "execution_count": 8,
   "metadata": {},
   "outputs": [
    {
     "name": "stdout",
     "output_type": "stream",
     "text": [
      "Train on 90000 samples\n",
      "Epoch 1/5\n",
      "90000/90000 [==============================] - 4s 41us/sample - loss: 0.0952\n",
      "Epoch 2/5\n",
      "90000/90000 [==============================] - 3s 39us/sample - loss: 0.0941\n",
      "Epoch 3/5\n",
      "90000/90000 [==============================] - 4s 39us/sample - loss: 0.0941\n",
      "Epoch 4/5\n",
      "90000/90000 [==============================] - 4s 45us/sample - loss: 0.0940\n",
      "Epoch 5/5\n",
      "90000/90000 [==============================] - 4s 47us/sample - loss: 0.0940\n"
     ]
    }
   ],
   "source": [
    "history = rescue_model.fit(x_train, y_train, epochs=5)"
   ]
  },
  {
   "cell_type": "markdown",
   "metadata": {},
   "source": [
    "Evaluate on the testing data set"
   ]
  },
  {
   "cell_type": "code",
   "execution_count": 11,
   "metadata": {},
   "outputs": [],
   "source": [
    "y_pred = rescue_model.predict(x_test)"
   ]
  },
  {
   "cell_type": "code",
   "execution_count": 10,
   "metadata": {},
   "outputs": [
    {
     "data": {
      "image/png": "[encoded data removed]",
      "text/plain": [
       "<Figure size 432x288 with 1 Axes>"
      ]
     },
     "metadata": {
      "needs_background": "light"
     },
     "output_type": "display_data"
    }
   ],
   "source": [
    "net_load_test = x_test[:,3] - x_test[:,7] - x_test[:,11]\n",
    "\n",
    "fig,ax = plt.subplots()\n",
    "\n",
    "ax.plot(net_load_test[:120], label = 'forecast')\n",
    "ax.plot(net_load_test[:120]+ y_pred[:120,0], label = 'PI - 75%', dashes = [4,4])\n",
    "ax.legend()\n",
    "\n",
    "plt.show()"
   ]
  },
  {
   "cell_type": "code",
   "execution_count": 6,
   "metadata": {
    "id": "h3IKyzTCDNGo"
   },
   "outputs": [],
   "source": []
  },
  {
   "cell_type": "markdown",
   "metadata": {
    "id": "uGih-c2LgbJu"
   },
   "source": [
    "Choose an optimizer and loss function for training: "
   ]
  },
  {
   "cell_type": "code",
   "execution_count": 6,
   "metadata": {
    "id": "u48C9WQ774n4"
   },
   "outputs": [],
   "source": [
    "\n",
    "\n",
    "# def pinball_loss(labels, predictions):\n",
    "#     tau = 0.25\n",
    "#     err = labels - predictions\n",
    "#     return tf.keras.backend.mean(tf.keras.backend.maximum(tau * err, (tau - 1) * err), axis=-1)\n",
    "\n",
    "# #loss_object = pinball_loss\n",
    "# loss_object = tf.keras.losses.MSE\n",
    "\n",
    "# optimizer = tf.keras.optimizers.Adam()"
   ]
  },
  {
   "cell_type": "markdown",
   "metadata": {
    "id": "JB6A1vcigsIe"
   },
   "source": [
    "Select metrics to measure the loss and the accuracy of the model. These metrics accumulate the values over epochs and then print the overall result."
   ]
  },
  {
   "cell_type": "code",
   "execution_count": 7,
   "metadata": {
    "id": "N0MqHFb4F_qn"
   },
   "outputs": [],
   "source": [
    "# train_loss = tf.keras.metrics.Mean(name='train_loss')\n",
    "# test_loss = tf.keras.metrics.Mean(name='test_loss')"
   ]
  },
  {
   "cell_type": "markdown",
   "metadata": {
    "id": "ix4mEL65on-w"
   },
   "source": [
    "Use `tf.GradientTape` to train the model:"
   ]
  },
  {
   "cell_type": "markdown",
   "metadata": {
    "id": "Z8YT7UmFgpjV"
   },
   "source": [
    "Test the model:"
   ]
  },
  {
   "cell_type": "code",
   "execution_count": 9,
   "metadata": {
    "id": "xIKdEzHAJGt7"
   },
   "outputs": [],
   "source": [
    "# @tf.function\n",
    "# def train_step(images, labels):\n",
    "#   with tf.GradientTape() as tape:\n",
    "#     # training=True is only needed if there are layers with different\n",
    "#     # behavior during training versus inference (e.g. Dropout).\n",
    "#     predictions = rescue(images, training=True)\n",
    "#     loss = loss_object(labels, predictions)\n",
    "#   gradients = tape.gradient(loss, rescue.trainable_variables)\n",
    "#   optimizer.apply_gradients(zip(gradients, rescue.trainable_variables))\n",
    "\n",
    "#   train_loss(loss)\n",
    "#   #train_accuracy(labels, predictions)\n",
    "\n",
    "\n",
    "# @tf.function\n",
    "# def test_step(images, labels):\n",
    "#   # training=False is only needed if there are layers with different\n",
    "#   # behavior during training versus inference (e.g. Dropout).\n",
    "#   predictions = rescue(images, training=False)\n",
    "#   t_loss = loss_object(labels, predictions)\n",
    "\n",
    "#   test_loss(t_loss)\n",
    "#   #test_accuracy(labels, predictions)"
   ]
  },
  {
   "cell_type": "code",
   "execution_count": 10,
   "metadata": {
    "id": "i-2pkctU_Ci7"
   },
   "outputs": [
    {
     "name": "stdout",
     "output_type": "stream",
     "text": [
      "Epoch 1, Loss: nan, Test Loss: nan, \n",
      "Epoch 2, Loss: nan, Test Loss: nan, \n",
      "Epoch 3, Loss: nan, Test Loss: nan, \n",
      "Epoch 4, Loss: nan, Test Loss: nan, \n",
      "Epoch 5, Loss: nan, Test Loss: nan, \n"
     ]
    }
   ],
   "source": [
    "# EPOCHS = 5\n",
    "\n",
    "# for epoch in range(EPOCHS):\n",
    "#   # Reset the metrics at the start of the next epoch\n",
    "#   train_loss.reset_states()\n",
    "#   #train_accuracy.reset_states()\n",
    "#   test_loss.reset_states()\n",
    "#   #test_accuracy.reset_states()\n",
    "\n",
    "#   for images, labels in train_ds:\n",
    "#     train_step(images, labels)\n",
    "\n",
    "#   for test_images, test_labels in test_ds:\n",
    "#     test_step(test_images, test_labels)\n",
    "\n",
    "#   print(\n",
    "#     f'Epoch {epoch + 1}, '\n",
    "#     f'Loss: {train_loss.result()}, '\n",
    "#     #f'Accuracy: {train_accuracy.result() * 100}, '\n",
    "#     f'Test Loss: {test_loss.result()}, '\n",
    "#     #f'Test Accuracy: {test_accuracy.result() * 100}'\n",
    "#   )"
   ]
  },
  {
   "cell_type": "code",
   "execution_count": null,
   "metadata": {},
   "outputs": [],
   "source": []
  }
 ],
 "metadata": {
  "accelerator": "GPU",
  "colab": {
   "collapsed_sections": [],
   "name": "advanced.ipynb",
   "toc_visible": true
  },
  "kernelspec": {
   "display_name": "Python 3",
   "language": "python",
   "name": "python3"
  },
  "language_info": {
   "codemirror_mode": {
    "name": "ipython",
    "version": 3
   },
   "file_extension": ".py",
   "mimetype": "text/x-python",
   "name": "python",
   "nbconvert_exporter": "python",
   "pygments_lexer": "ipython3",
   "version": "3.7.6"
  }
 },
 "nbformat": 4,
 "nbformat_minor": 4
}
